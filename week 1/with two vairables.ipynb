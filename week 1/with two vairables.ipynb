{
 "cells": [
  {
   "cell_type": "code",
   "execution_count": 1,
   "id": "8b6e2264",
   "metadata": {},
   "outputs": [],
   "source": [
    "import pandas as pd\n",
    "import numpy as np\n",
    "import matplotlib.pyplot as plt"
   ]
  },
  {
   "cell_type": "code",
   "execution_count": 2,
   "id": "93a536e5",
   "metadata": {},
   "outputs": [],
   "source": [
    "data = pd.read_csv('ex1data2.txt')"
   ]
  },
  {
   "cell_type": "code",
   "execution_count": 3,
   "id": "a4f3eed6",
   "metadata": {},
   "outputs": [
    {
     "data": {
      "text/html": [
       "<div>\n",
       "<style scoped>\n",
       "    .dataframe tbody tr th:only-of-type {\n",
       "        vertical-align: middle;\n",
       "    }\n",
       "\n",
       "    .dataframe tbody tr th {\n",
       "        vertical-align: top;\n",
       "    }\n",
       "\n",
       "    .dataframe thead th {\n",
       "        text-align: right;\n",
       "    }\n",
       "</style>\n",
       "<table border=\"1\" class=\"dataframe\">\n",
       "  <thead>\n",
       "    <tr style=\"text-align: right;\">\n",
       "      <th></th>\n",
       "      <th>square feet</th>\n",
       "      <th>num of bed rooms</th>\n",
       "      <th>price</th>\n",
       "    </tr>\n",
       "  </thead>\n",
       "  <tbody>\n",
       "    <tr>\n",
       "      <th>count</th>\n",
       "      <td>47.000000</td>\n",
       "      <td>47.000000</td>\n",
       "      <td>47.000000</td>\n",
       "    </tr>\n",
       "    <tr>\n",
       "      <th>mean</th>\n",
       "      <td>2000.680851</td>\n",
       "      <td>3.170213</td>\n",
       "      <td>340412.659574</td>\n",
       "    </tr>\n",
       "    <tr>\n",
       "      <th>std</th>\n",
       "      <td>794.702354</td>\n",
       "      <td>0.760982</td>\n",
       "      <td>125039.899586</td>\n",
       "    </tr>\n",
       "    <tr>\n",
       "      <th>min</th>\n",
       "      <td>852.000000</td>\n",
       "      <td>1.000000</td>\n",
       "      <td>169900.000000</td>\n",
       "    </tr>\n",
       "    <tr>\n",
       "      <th>25%</th>\n",
       "      <td>1432.000000</td>\n",
       "      <td>3.000000</td>\n",
       "      <td>249900.000000</td>\n",
       "    </tr>\n",
       "    <tr>\n",
       "      <th>50%</th>\n",
       "      <td>1888.000000</td>\n",
       "      <td>3.000000</td>\n",
       "      <td>299900.000000</td>\n",
       "    </tr>\n",
       "    <tr>\n",
       "      <th>75%</th>\n",
       "      <td>2269.000000</td>\n",
       "      <td>4.000000</td>\n",
       "      <td>384450.000000</td>\n",
       "    </tr>\n",
       "    <tr>\n",
       "      <th>max</th>\n",
       "      <td>4478.000000</td>\n",
       "      <td>5.000000</td>\n",
       "      <td>699900.000000</td>\n",
       "    </tr>\n",
       "  </tbody>\n",
       "</table>\n",
       "</div>"
      ],
      "text/plain": [
       "       square feet  num of bed rooms          price\n",
       "count    47.000000         47.000000      47.000000\n",
       "mean   2000.680851          3.170213  340412.659574\n",
       "std     794.702354          0.760982  125039.899586\n",
       "min     852.000000          1.000000  169900.000000\n",
       "25%    1432.000000          3.000000  249900.000000\n",
       "50%    1888.000000          3.000000  299900.000000\n",
       "75%    2269.000000          4.000000  384450.000000\n",
       "max    4478.000000          5.000000  699900.000000"
      ]
     },
     "execution_count": 3,
     "metadata": {},
     "output_type": "execute_result"
    }
   ],
   "source": [
    "data.describe() \n"
   ]
  },
  {
   "cell_type": "code",
   "execution_count": 6,
   "id": "ad45c98c",
   "metadata": {},
   "outputs": [],
   "source": [
    "features = data[['square feet','num of bed rooms']].to_numpy()\n",
    "def feature_normalization(X):\n",
    "    mean = np.mean(features, axis = 0)\n",
    "    davaition = np.std(features, axis = 0)\n",
    "    X_norm = (X - mean)/davaition\n",
    "    return X_norm, mean, davaition"
   ]
  },
  {
   "cell_type": "code",
   "execution_count": 8,
   "id": "43bd52a9",
   "metadata": {},
   "outputs": [
    {
     "data": {
      "text/plain": [
       "array([2000.68085106,    3.17021277])"
      ]
     },
     "execution_count": 8,
     "metadata": {},
     "output_type": "execute_result"
    }
   ],
   "source": [
    "X_not_normalized = data[['square feet','num of bed rooms']].to_numpy()\n",
    "X1, mean, std = feature_normalization(X_not_normalized)\n",
    "m = len(X1[:,0])                                 # 47\n",
    "X1 = np.append(np.ones((m,1)), X1, axis = 1)     #X1 = (47, 3)\n",
    "\n",
    "\n",
    "Y =  data[['price']].to_numpy()     # (47, 1) \n",
    "theta = np.zeros((3,1))              #(3,1)\n",
    "Y.shape\n",
    "mean"
   ]
  },
  {
   "cell_type": "code",
   "execution_count": 9,
   "id": "0ca79ac9",
   "metadata": {},
   "outputs": [
    {
     "data": {
      "text/plain": [
       "65591548106.45744"
      ]
     },
     "execution_count": 9,
     "metadata": {},
     "output_type": "execute_result"
    }
   ],
   "source": [
    "def costfunction(X, Y, theta):\n",
    "    m = len(Y)\n",
    "    #predictions =  X.dot(theta)                    #47*1\n",
    "    \n",
    "    predictions =  np.dot(X, theta)   \n",
    "    square_err=(predictions - Y)**2        \n",
    "    \n",
    "    return 1/(2*m) * np.sum(square_err)\n",
    "\n",
    "c = costfunction(X1, Y, theta)\n",
    "c\n"
   ]
  },
  {
   "cell_type": "code",
   "execution_count": 10,
   "id": "962e6c30",
   "metadata": {},
   "outputs": [
    {
     "data": {
      "text/plain": [
       "array([[334302.06399328],\n",
       "       [ 99411.44947359],\n",
       "       [  3267.01285407]])"
      ]
     },
     "execution_count": 10,
     "metadata": {},
     "output_type": "execute_result"
    }
   ],
   "source": [
    "def gradient_Descent(theta, X, Y, num_iters, alpha):\n",
    "    m = len(X[:,0])\n",
    "    j_history = []\n",
    "    for i in range(num_iters):\n",
    "        predictions =  np.dot(X, theta) - Y       #(47, 1)\n",
    "        h_x = np.dot(X.transpose(), predictions)\n",
    "        theta = theta - (alpha/m)*h_x\n",
    "        j_history.append(costfunction(X, Y, theta))\n",
    "        \n",
    "    return j_history,theta\n",
    "\n",
    "j_his, theta = gradient_Descent(theta, X1, Y, 400,0.01)\n",
    "theta    \n",
    "    "
   ]
  },
  {
   "cell_type": "markdown",
   "id": "bd84c7f3",
   "metadata": {},
   "source": []
  },
  {
   "cell_type": "code",
   "execution_count": 14,
   "id": "c4e436d6",
   "metadata": {},
   "outputs": [
    {
     "data": {
      "text/plain": [
       "[<matplotlib.lines.Line2D at 0x2711ff13f10>]"
      ]
     },
     "execution_count": 14,
     "metadata": {},
     "output_type": "execute_result"
    },
    {
     "data": {
      "image/png": "[encoded data removed]",
      "text/plain": [
       "<Figure size 432x288 with 1 Axes>"
      ]
     },
     "metadata": {
      "needs_background": "light"
     },
     "output_type": "display_data"
    }
   ],
   "source": [
    "plt.plot(j_his)"
   ]
  },
  {
   "cell_type": "code",
   "execution_count": 12,
   "id": "2a658671",
   "metadata": {},
   "outputs": [
    {
     "data": {
      "text/plain": [
       "289221.5473712181"
      ]
     },
     "execution_count": 12,
     "metadata": {},
     "output_type": "execute_result"
    }
   ],
   "source": [
    "def predict(x, theta):\n",
    "    \n",
    "    prediction = np.dot(theta.transpose(),x)\n",
    "    return prediction[0]\n",
    "\n",
    "\n",
    "x_sample = feature_normalization(np.array([1650,3]))[0]\n",
    "x_sample = np.append(np.ones(1),x_sample)\n",
    "predict3 = predict(x_sample,theta)\n",
    "predict3"
   ]
  },
  {
   "cell_type": "code",
   "execution_count": 13,
   "id": "cb18e4eb",
   "metadata": {},
   "outputs": [
    {
     "data": {
      "text/plain": [
       "array([ 1.        , -0.44604386, -0.22609337])"
      ]
     },
     "execution_count": 13,
     "metadata": {},
     "output_type": "execute_result"
    }
   ],
   "source": [
    "x_sample"
   ]
  },
  {
   "cell_type": "code",
   "execution_count": null,
   "id": "6fa6c42e",
   "metadata": {},
   "outputs": [],
   "source": []
  },
  {
   "cell_type": "code",
   "execution_count": null,
   "id": "0b8cd5c7",
   "metadata": {},
   "outputs": [],
   "source": []
  }
 ],
 "metadata": {
  "kernelspec": {
   "display_name": "Python 3 (ipykernel)",
   "language": "python",
   "name": "python3"
  },
  "language_info": {
   "codemirror_mode": {
    "name": "ipython",
    "version": 3
   },
   "file_extension": ".py",
   "mimetype": "text/x-python",
   "name": "python",
   "nbconvert_exporter": "python",
   "pygments_lexer": "ipython3",
   "version": "3.9.7"
  }
 },
 "nbformat": 4,
 "nbformat_minor": 5
}
