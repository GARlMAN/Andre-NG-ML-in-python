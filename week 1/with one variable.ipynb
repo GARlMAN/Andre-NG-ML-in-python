{
 "cells": [
  {
   "cell_type": "code",
   "execution_count": 1,
   "id": "ec84971e",
   "metadata": {},
   "outputs": [],
   "source": [
    "import pandas as pd\n",
    "import numpy as np\n",
    "import statistics\n",
    "import matplotlib.pyplot as plt\n"
   ]
  },
  {
   "cell_type": "code",
   "execution_count": 2,
   "id": "01d4b278",
   "metadata": {},
   "outputs": [
    {
     "data": {
      "text/html": [
       "<div>\n",
       "<style scoped>\n",
       "    .dataframe tbody tr th:only-of-type {\n",
       "        vertical-align: middle;\n",
       "    }\n",
       "\n",
       "    .dataframe tbody tr th {\n",
       "        vertical-align: top;\n",
       "    }\n",
       "\n",
       "    .dataframe thead th {\n",
       "        text-align: right;\n",
       "    }\n",
       "</style>\n",
       "<table border=\"1\" class=\"dataframe\">\n",
       "  <thead>\n",
       "    <tr style=\"text-align: right;\">\n",
       "      <th></th>\n",
       "      <th>population</th>\n",
       "      <th>price</th>\n",
       "    </tr>\n",
       "  </thead>\n",
       "  <tbody>\n",
       "    <tr>\n",
       "      <th>0</th>\n",
       "      <td>6.1101</td>\n",
       "      <td>17.59200</td>\n",
       "    </tr>\n",
       "    <tr>\n",
       "      <th>1</th>\n",
       "      <td>5.5277</td>\n",
       "      <td>9.13020</td>\n",
       "    </tr>\n",
       "    <tr>\n",
       "      <th>2</th>\n",
       "      <td>8.5186</td>\n",
       "      <td>13.66200</td>\n",
       "    </tr>\n",
       "    <tr>\n",
       "      <th>3</th>\n",
       "      <td>7.0032</td>\n",
       "      <td>11.85400</td>\n",
       "    </tr>\n",
       "    <tr>\n",
       "      <th>4</th>\n",
       "      <td>5.8598</td>\n",
       "      <td>6.82330</td>\n",
       "    </tr>\n",
       "    <tr>\n",
       "      <th>...</th>\n",
       "      <td>...</td>\n",
       "      <td>...</td>\n",
       "    </tr>\n",
       "    <tr>\n",
       "      <th>92</th>\n",
       "      <td>5.8707</td>\n",
       "      <td>7.20290</td>\n",
       "    </tr>\n",
       "    <tr>\n",
       "      <th>93</th>\n",
       "      <td>5.3054</td>\n",
       "      <td>1.98690</td>\n",
       "    </tr>\n",
       "    <tr>\n",
       "      <th>94</th>\n",
       "      <td>8.2934</td>\n",
       "      <td>0.14454</td>\n",
       "    </tr>\n",
       "    <tr>\n",
       "      <th>95</th>\n",
       "      <td>13.3940</td>\n",
       "      <td>9.05510</td>\n",
       "    </tr>\n",
       "    <tr>\n",
       "      <th>96</th>\n",
       "      <td>5.4369</td>\n",
       "      <td>0.61705</td>\n",
       "    </tr>\n",
       "  </tbody>\n",
       "</table>\n",
       "<p>97 rows × 2 columns</p>\n",
       "</div>"
      ],
      "text/plain": [
       "    population     price\n",
       "0       6.1101  17.59200\n",
       "1       5.5277   9.13020\n",
       "2       8.5186  13.66200\n",
       "3       7.0032  11.85400\n",
       "4       5.8598   6.82330\n",
       "..         ...       ...\n",
       "92      5.8707   7.20290\n",
       "93      5.3054   1.98690\n",
       "94      8.2934   0.14454\n",
       "95     13.3940   9.05510\n",
       "96      5.4369   0.61705\n",
       "\n",
       "[97 rows x 2 columns]"
      ]
     },
     "execution_count": 2,
     "metadata": {},
     "output_type": "execute_result"
    }
   ],
   "source": [
    "data = pd.read_csv('ex1data1.txt')\n",
    "data"
   ]
  },
  {
   "cell_type": "code",
   "execution_count": 3,
   "id": "354dfd33",
   "metadata": {},
   "outputs": [],
   "source": [
    "def costfunction(X, Y, theta):\n",
    "    m = len(Y)\n",
    "    #predictions =  X.dot(theta)                    #97*1\n",
    "    \n",
    "    predictions =  np.dot(X, theta)   \n",
    "    square_err=(predictions - Y)**2\n",
    "    \n",
    "    return 1/(2*m) * np.sum(square_err)"
   ]
  },
  {
   "cell_type": "code",
   "execution_count": 4,
   "id": "3e9aaa30",
   "metadata": {},
   "outputs": [
    {
     "data": {
      "text/plain": [
       "32.07273387745566"
      ]
     },
     "execution_count": 4,
     "metadata": {},
     "output_type": "execute_result"
    }
   ],
   "source": [
    "first_split = data.sample(frac=1,random_state=1)\n",
    "\n",
    "\n",
    "data_n = first_split.values\n",
    "m = len(data_n[:,0])\n",
    "\n",
    "c1x = first_split[['population']].to_numpy()\n",
    "X = np.append(np.ones((m,1)), c1x, axis = 1)          #97*2 using to append to add ones layer\n",
    "\n",
    "\n",
    "Y = first_split[['price']].to_numpy()    #97*2\n",
    "\n",
    "theta = np.zeros((2,1))                                #2*1\n",
    "\n",
    "costfunction(X,Y, theta)"
   ]
  },
  {
   "cell_type": "code",
   "execution_count": 5,
   "id": "25656cf4",
   "metadata": {},
   "outputs": [],
   "source": [
    "def gradientdescent(theta, X, Y, num_iters, alpha):\n",
    "    m = len(Y)\n",
    "    j_history = []\n",
    "    for i in range(num_iters):\n",
    "        \n",
    "        easy = X.dot(theta) - Y\n",
    "        dif = np.dot(X.transpose(), easy)\n",
    "        \n",
    "        theta = theta - (alpha/m) * dif\n",
    "        j_history.append(costfunction(X, Y, theta))\n",
    "        \n",
    "    return theta, j_history"
   ]
  },
  {
   "cell_type": "code",
   "execution_count": 6,
   "id": "b4c0a9b4",
   "metadata": {},
   "outputs": [],
   "source": [
    "theta, j_history = gradientdescent(theta, X, Y, 1500, 0.01)"
   ]
  },
  {
   "cell_type": "code",
   "execution_count": 7,
   "id": "f71fd659",
   "metadata": {},
   "outputs": [
    {
     "data": {
      "text/plain": [
       "(2, 1)"
      ]
     },
     "execution_count": 7,
     "metadata": {},
     "output_type": "execute_result"
    }
   ],
   "source": [
    "theta.shape\n"
   ]
  },
  {
   "cell_type": "code",
   "execution_count": 8,
   "id": "07d4ce26",
   "metadata": {},
   "outputs": [
    {
     "data": {
      "text/plain": [
       "3.7864901101445727"
      ]
     },
     "execution_count": 8,
     "metadata": {},
     "output_type": "execute_result"
    }
   ],
   "source": [
    "def predict(x, theta):\n",
    "    \n",
    "    prediction = np.dot(theta.transpose(),x)\n",
    "    return prediction[0]\n",
    "\n",
    "predict(np.array([1,6.3589]), theta)\n",
    "    "
   ]
  },
  {
   "cell_type": "code",
   "execution_count": 9,
   "id": "f91d43aa",
   "metadata": {},
   "outputs": [
    {
     "data": {
      "text/html": [
       "<div>\n",
       "<style scoped>\n",
       "    .dataframe tbody tr th:only-of-type {\n",
       "        vertical-align: middle;\n",
       "    }\n",
       "\n",
       "    .dataframe tbody tr th {\n",
       "        vertical-align: top;\n",
       "    }\n",
       "\n",
       "    .dataframe thead th {\n",
       "        text-align: right;\n",
       "    }\n",
       "</style>\n",
       "<table border=\"1\" class=\"dataframe\">\n",
       "  <thead>\n",
       "    <tr style=\"text-align: right;\">\n",
       "      <th></th>\n",
       "      <th>population</th>\n",
       "      <th>price</th>\n",
       "    </tr>\n",
       "  </thead>\n",
       "  <tbody>\n",
       "    <tr>\n",
       "      <th>33</th>\n",
       "      <td>5.8918</td>\n",
       "      <td>1.84950</td>\n",
       "    </tr>\n",
       "    <tr>\n",
       "      <th>58</th>\n",
       "      <td>9.3102</td>\n",
       "      <td>3.96240</td>\n",
       "    </tr>\n",
       "    <tr>\n",
       "      <th>32</th>\n",
       "      <td>9.2482</td>\n",
       "      <td>12.13400</td>\n",
       "    </tr>\n",
       "    <tr>\n",
       "      <th>90</th>\n",
       "      <td>5.7077</td>\n",
       "      <td>1.84510</td>\n",
       "    </tr>\n",
       "    <tr>\n",
       "      <th>45</th>\n",
       "      <td>7.0931</td>\n",
       "      <td>1.04630</td>\n",
       "    </tr>\n",
       "    <tr>\n",
       "      <th>...</th>\n",
       "      <td>...</td>\n",
       "      <td>...</td>\n",
       "    </tr>\n",
       "    <tr>\n",
       "      <th>75</th>\n",
       "      <td>6.5479</td>\n",
       "      <td>0.29678</td>\n",
       "    </tr>\n",
       "    <tr>\n",
       "      <th>9</th>\n",
       "      <td>5.0546</td>\n",
       "      <td>3.81660</td>\n",
       "    </tr>\n",
       "    <tr>\n",
       "      <th>72</th>\n",
       "      <td>6.0062</td>\n",
       "      <td>1.27840</td>\n",
       "    </tr>\n",
       "    <tr>\n",
       "      <th>12</th>\n",
       "      <td>5.7340</td>\n",
       "      <td>3.15510</td>\n",
       "    </tr>\n",
       "    <tr>\n",
       "      <th>37</th>\n",
       "      <td>5.6063</td>\n",
       "      <td>3.39280</td>\n",
       "    </tr>\n",
       "  </tbody>\n",
       "</table>\n",
       "<p>97 rows × 2 columns</p>\n",
       "</div>"
      ],
      "text/plain": [
       "    population     price\n",
       "33      5.8918   1.84950\n",
       "58      9.3102   3.96240\n",
       "32      9.2482  12.13400\n",
       "90      5.7077   1.84510\n",
       "45      7.0931   1.04630\n",
       "..         ...       ...\n",
       "75      6.5479   0.29678\n",
       "9       5.0546   3.81660\n",
       "72      6.0062   1.27840\n",
       "12      5.7340   3.15510\n",
       "37      5.6063   3.39280\n",
       "\n",
       "[97 rows x 2 columns]"
      ]
     },
     "execution_count": 9,
     "metadata": {},
     "output_type": "execute_result"
    }
   ],
   "source": [
    "def check_accuracy(test):\n",
    "    test_data = test.values\n",
    "    \n",
    "    X_test = test_data[:,0]\n",
    "    Y_test = test_data[:,1]\n",
    "    difference = []\n",
    "    \n",
    "    for index,i in enumerate(X_test):\n",
    "        j = np.array([i])\n",
    "        j = np.array([1,i])\n",
    "        prediction = predict(j, theta)\n",
    "        error = Y_test[index] - prediction\n",
    "        percentage = (abs(error)/Y_test[index])*100\n",
    "        difference.append(abs(percentage))\n",
    "        \n",
    "    return statistics.mean(difference) \n",
    "        \n",
    "        \n",
    "    \n",
    "    \n",
    "\n",
    "first_split    "
   ]
  },
  {
   "cell_type": "code",
   "execution_count": 10,
   "id": "3b83a266",
   "metadata": {},
   "outputs": [
    {
     "data": {
      "text/plain": [
       "158.35746640088624"
      ]
     },
     "execution_count": 10,
     "metadata": {},
     "output_type": "execute_result"
    }
   ],
   "source": [
    "check_accuracy(first_split)"
   ]
  },
  {
   "cell_type": "code",
   "execution_count": 35,
   "id": "5b2ff338",
   "metadata": {},
   "outputs": [
    {
     "data": {
      "text/plain": [
       "Text(0.5, 1.0, 'Profit vs Population')"
      ]
     },
     "execution_count": 35,
     "metadata": {},
     "output_type": "execute_result"
    },
    {
     "data": {
      "image/png": "[encoded data removed]",
      "text/plain": [
       "<Figure size 432x288 with 1 Axes>"
      ]
     },
     "metadata": {
      "needs_background": "light"
     },
     "output_type": "display_data"
    }
   ],
   "source": [
    "plt.scatter(data['population'],data['price'])\n",
    "x_value=[x for x in range(25)]\n",
    "y_value=[y*theta[1]+theta[0] for y in x_value]\n",
    "plt.plot(x_value,y_value,color=\"r\")\n",
    "plt.xticks(np.arange(5,30,step=5))\n",
    "plt.yticks(np.arange(-5,30,step=5))\n",
    "plt.xlabel(\"Population of City (10,000s)\")\n",
    "plt.ylabel(\"Profit ($10,000\")\n",
    "plt.title(\"Profit vs Population\")\n"
   ]
  },
  {
   "cell_type": "code",
   "execution_count": 36,
   "id": "f169f3a3",
   "metadata": {},
   "outputs": [
    {
     "data": {
      "text/plain": [
       "[<matplotlib.lines.Line2D at 0x23e4f2a4070>]"
      ]
     },
     "execution_count": 36,
     "metadata": {},
     "output_type": "execute_result"
    },
    {
     "data": {
      "image/png": "[encoded data removed]",
      "text/plain": [
       "<Figure size 432x288 with 1 Axes>"
      ]
     },
     "metadata": {
      "needs_background": "light"
     },
     "output_type": "display_data"
    }
   ],
   "source": [
    "plt.plot(j_history)"
   ]
  },
  {
   "cell_type": "code",
   "execution_count": null,
   "id": "38bba833",
   "metadata": {},
   "outputs": [],
   "source": []
  },
  {
   "cell_type": "code",
   "execution_count": null,
   "id": "416735b6",
   "metadata": {},
   "outputs": [],
   "source": []
  },
  {
   "cell_type": "code",
   "execution_count": null,
   "id": "820fce5e",
   "metadata": {},
   "outputs": [],
   "source": []
  }
 ],
 "metadata": {
  "kernelspec": {
   "display_name": "Python 3 (ipykernel)",
   "language": "python",
   "name": "python3"
  },
  "language_info": {
   "codemirror_mode": {
    "name": "ipython",
    "version": 3
   },
   "file_extension": ".py",
   "mimetype": "text/x-python",
   "name": "python",
   "nbconvert_exporter": "python",
   "pygments_lexer": "ipython3",
   "version": "3.9.7"
  }
 },
 "nbformat": 4,
 "nbformat_minor": 5
}
