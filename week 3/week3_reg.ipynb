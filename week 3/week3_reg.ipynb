{
 "cells": [
  {
   "cell_type": "code",
   "execution_count": 6,
   "id": "89557939",
   "metadata": {},
   "outputs": [
    {
     "data": {
      "text/html": [
       "<div>\n",
       "<style scoped>\n",
       "    .dataframe tbody tr th:only-of-type {\n",
       "        vertical-align: middle;\n",
       "    }\n",
       "\n",
       "    .dataframe tbody tr th {\n",
       "        vertical-align: top;\n",
       "    }\n",
       "\n",
       "    .dataframe thead th {\n",
       "        text-align: right;\n",
       "    }\n",
       "</style>\n",
       "<table border=\"1\" class=\"dataframe\">\n",
       "  <thead>\n",
       "    <tr style=\"text-align: right;\">\n",
       "      <th></th>\n",
       "      <th>test1</th>\n",
       "      <th>test2</th>\n",
       "      <th>y</th>\n",
       "    </tr>\n",
       "  </thead>\n",
       "  <tbody>\n",
       "    <tr>\n",
       "      <th>0</th>\n",
       "      <td>0.051267</td>\n",
       "      <td>0.699560</td>\n",
       "      <td>1</td>\n",
       "    </tr>\n",
       "    <tr>\n",
       "      <th>1</th>\n",
       "      <td>-0.092742</td>\n",
       "      <td>0.684940</td>\n",
       "      <td>1</td>\n",
       "    </tr>\n",
       "    <tr>\n",
       "      <th>2</th>\n",
       "      <td>-0.213710</td>\n",
       "      <td>0.692250</td>\n",
       "      <td>1</td>\n",
       "    </tr>\n",
       "    <tr>\n",
       "      <th>3</th>\n",
       "      <td>-0.375000</td>\n",
       "      <td>0.502190</td>\n",
       "      <td>1</td>\n",
       "    </tr>\n",
       "    <tr>\n",
       "      <th>4</th>\n",
       "      <td>-0.513250</td>\n",
       "      <td>0.465640</td>\n",
       "      <td>1</td>\n",
       "    </tr>\n",
       "    <tr>\n",
       "      <th>...</th>\n",
       "      <td>...</td>\n",
       "      <td>...</td>\n",
       "      <td>...</td>\n",
       "    </tr>\n",
       "    <tr>\n",
       "      <th>113</th>\n",
       "      <td>-0.720620</td>\n",
       "      <td>0.538740</td>\n",
       "      <td>0</td>\n",
       "    </tr>\n",
       "    <tr>\n",
       "      <th>114</th>\n",
       "      <td>-0.593890</td>\n",
       "      <td>0.494880</td>\n",
       "      <td>0</td>\n",
       "    </tr>\n",
       "    <tr>\n",
       "      <th>115</th>\n",
       "      <td>-0.484450</td>\n",
       "      <td>0.999270</td>\n",
       "      <td>0</td>\n",
       "    </tr>\n",
       "    <tr>\n",
       "      <th>116</th>\n",
       "      <td>-0.006336</td>\n",
       "      <td>0.999270</td>\n",
       "      <td>0</td>\n",
       "    </tr>\n",
       "    <tr>\n",
       "      <th>117</th>\n",
       "      <td>0.632650</td>\n",
       "      <td>-0.030612</td>\n",
       "      <td>0</td>\n",
       "    </tr>\n",
       "  </tbody>\n",
       "</table>\n",
       "<p>118 rows × 3 columns</p>\n",
       "</div>"
      ],
      "text/plain": [
       "        test1     test2  y\n",
       "0    0.051267  0.699560  1\n",
       "1   -0.092742  0.684940  1\n",
       "2   -0.213710  0.692250  1\n",
       "3   -0.375000  0.502190  1\n",
       "4   -0.513250  0.465640  1\n",
       "..        ...       ... ..\n",
       "113 -0.720620  0.538740  0\n",
       "114 -0.593890  0.494880  0\n",
       "115 -0.484450  0.999270  0\n",
       "116 -0.006336  0.999270  0\n",
       "117  0.632650 -0.030612  0\n",
       "\n",
       "[118 rows x 3 columns]"
      ]
     },
     "execution_count": 6,
     "metadata": {},
     "output_type": "execute_result"
    }
   ],
   "source": [
    "data = pd.read_csv('ex2data2.txt')\n",
    "data\n"
   ]
  },
  {
   "cell_type": "code",
   "execution_count": 7,
   "id": "4822923d",
   "metadata": {},
   "outputs": [],
   "source": [
    "import numpy as np\n",
    "import matplotlib.pyplot as plt\n",
    "import pandas as pd\n"
   ]
  },
  {
   "cell_type": "code",
   "execution_count": 8,
   "id": "22aae6f4",
   "metadata": {},
   "outputs": [],
   "source": [
    "X_values = data[['test1', 'test2']].to_numpy()\n",
    "y_values = data[['y']].to_numpy()\n"
   ]
  },
  {
   "cell_type": "code",
   "execution_count": 9,
   "id": "a75767cd",
   "metadata": {
    "scrolled": true
   },
   "outputs": [
    {
     "data": {
      "text/plain": [
       "<matplotlib.collections.PathCollection at 0x20ec54e6e20>"
      ]
     },
     "execution_count": 9,
     "metadata": {},
     "output_type": "execute_result"
    },
    {
     "data": {
      "image/png": "[encoded data removed]",
      "text/plain": [
       "<Figure size 432x288 with 1 Axes>"
      ]
     },
     "metadata": {
      "needs_background": "light"
     },
     "output_type": "display_data"
    }
   ],
   "source": [
    "pos, neg = (y_values == 1), (y_values == 0)\n",
    "plt.scatter(X_values[neg[:,0],0], X_values[neg[:,0],1], marker = \"o\")\n",
    "plt.scatter(X_values[pos[:,0],0], X_values[pos[:,0],1], marker = \"+\")"
   ]
  },
  {
   "cell_type": "code",
   "execution_count": 10,
   "id": "e0e9b8c8",
   "metadata": {},
   "outputs": [],
   "source": [
    "def man_features(x1, x2, degree):\n",
    "    x = np.ones((len(x1), 1))\n",
    "    #x = np.hstack((x1, x2))\n",
    "    for i in range(1, degree+1):\n",
    "        for j in range(i+1):\n",
    "            x_new = x1**(i - j) * x2**(j)\n",
    "            x = np.hstack((x, x_new))\n",
    "    return x\n",
    "\n",
    "X = man_features(X_values[:,0].reshape((118,1)), X_values[:,1].reshape((118,1)), 6)       #(118, 28)\n",
    "y = y_values            \n",
    "theta =  np.zeros((28,1))        "
   ]
  },
  {
   "cell_type": "code",
   "execution_count": 11,
   "id": "b6839536",
   "metadata": {},
   "outputs": [],
   "source": [
    "#out = np.ones((len(y), 1))\n",
    "def sigmoid(z):\n",
    "    return 1/(1 + np.exp(-z))\n",
    "\n"
   ]
  },
  {
   "cell_type": "code",
   "execution_count": 12,
   "id": "33a23ed9",
   "metadata": {},
   "outputs": [],
   "source": [
    "def cost_Function(X, Y, theta, lamda):\n",
    "    m = len(Y)\n",
    "    small_value = np.full((1, 1) ,0.00000000000000000000000000000000001)\n",
    "    \n",
    "    h_x = sigmoid(np.dot(X, theta))#(100, 1)\n",
    "    \n",
    "    cost = (Y) * np.log(h_x+small_value) + (1 - Y) * np.log(1 - h_x + small_value)\n",
    "    j = (-1/m) * sum(cost)\n",
    "    \n",
    "    reg_j = j + (lamda/(2*m)) * sum(theta[1:] ** 2)\n",
    "    \n",
    "    grad_term_zero = (1/m) * (np.dot(X.transpose()[0],(h_x - Y)))\n",
    "    grad_term_one  = (1/m)*(np.dot(X.transpose()[1:],(h_x - Y))) + (lamda/m)*theta[1:]\n",
    "    \n",
    "    \n",
    "    return reg_j[0], grad_term_zero, grad_term_one\n",
    "\n",
    "j, g0, g1 = cost_Function(X, y, theta, 0.2)"
   ]
  },
  {
   "cell_type": "code",
   "execution_count": 13,
   "id": "8db0637f",
   "metadata": {},
   "outputs": [
    {
     "data": {
      "text/plain": [
       "[<matplotlib.lines.Line2D at 0x20ec5caedf0>]"
      ]
     },
     "execution_count": 13,
     "metadata": {},
     "output_type": "execute_result"
    },
    {
     "data": {
      "image/png": "[encoded data removed]",
      "text/plain": [
       "<Figure size 432x288 with 1 Axes>"
      ]
     },
     "metadata": {
      "needs_background": "light"
     },
     "output_type": "display_data"
    }
   ],
   "source": [
    "def gradient_descent(X, Y, theta, alpha, num_iter, lamda):\n",
    "    \n",
    "    j_history = []\n",
    "    \n",
    "    for i in range(num_iter):\n",
    "        j, g0, g1 = cost_Function(X, Y, theta, lamda)\n",
    "        theta[0] = theta[0] - alpha*g0\n",
    "        theta[1:] = theta[1:] - alpha*g1\n",
    "        j_history.append(j)\n",
    "        \n",
    "    return theta, j_history\n",
    "\n",
    "\n",
    "theta, j_history = gradient_descent(X, y, theta, 1, 800, 0.1)\n",
    "plt.plot(j_history)"
   ]
  },
  {
   "cell_type": "code",
   "execution_count": 14,
   "id": "72b6769c",
   "metadata": {
    "scrolled": true
   },
   "outputs": [],
   "source": [
    "def predict(X, theta):\n",
    "    prediction = sigmoid(X@theta)\n",
    "    return prediction >= 0.5\n",
    "\n",
    "\n",
    "\n",
    "p = predict(X, theta)"
   ]
  },
  {
   "cell_type": "code",
   "execution_count": 15,
   "id": "b3d884e5",
   "metadata": {},
   "outputs": [
    {
     "data": {
      "text/plain": [
       "array([0.83050847])"
      ]
     },
     "execution_count": 15,
     "metadata": {},
     "output_type": "execute_result"
    }
   ],
   "source": [
    "sum(p == y)/len(y)"
   ]
  },
  {
   "cell_type": "code",
   "execution_count": 16,
   "id": "061e4229",
   "metadata": {},
   "outputs": [
    {
     "data": {
      "text/plain": [
       "<matplotlib.contour.QuadContourSet at 0x20ec5c07520>"
      ]
     },
     "execution_count": 16,
     "metadata": {},
     "output_type": "execute_result"
    },
    {
     "data": {
      "image/png": "[encoded data removed]",
      "text/plain": [
       "<Figure size 432x288 with 1 Axes>"
      ]
     },
     "metadata": {
      "needs_background": "light"
     },
     "output_type": "display_data"
    }
   ],
   "source": [
    "def mapFeaturePlot(x1,x2,degree):\n",
    "    \"\"\"\n",
    "    take in numpy array of x1 and x2, return all polynomial terms up to the given degree\n",
    "    \"\"\"\n",
    "    out = np.ones(1)\n",
    "    for i in range(1,degree+1):\n",
    "        for j in range(i+1):\n",
    "            terms= (x1**(i-j) * x2**j)\n",
    "            out= np.hstack((out,terms))\n",
    "    return out\n",
    "\n",
    "\n",
    "plt.scatter(X_values[neg[:,0],0], X_values[neg[:,0],1], marker = \"o\")\n",
    "plt.scatter(X_values[pos[:,0],0], X_values[pos[:,0],1], marker = \"+\")\n",
    "\n",
    "u_vals = np.linspace(-1,1.5,50)\n",
    "v_vals= np.linspace(-1,1.5,50)\n",
    "z=np.zeros((len(u_vals),len(v_vals)))\n",
    "for i in range(len(u_vals)):\n",
    "    for j in range(len(v_vals)):\n",
    "        z[i,j] =mapFeaturePlot(u_vals[i],v_vals[j],6) @ theta\n",
    "plt.contour(u_vals,v_vals,z.T,0)"
   ]
  },
  {
   "cell_type": "code",
   "execution_count": null,
   "id": "a6ec4a7f",
   "metadata": {},
   "outputs": [],
   "source": []
  },
  {
   "cell_type": "code",
   "execution_count": null,
   "id": "093faf1d",
   "metadata": {},
   "outputs": [],
   "source": []
  },
  {
   "cell_type": "code",
   "execution_count": 17,
   "id": "54e688fb",
   "metadata": {},
   "outputs": [
    {
     "data": {
      "text/plain": [
       "array([[1.e-35]])"
      ]
     },
     "execution_count": 17,
     "metadata": {},
     "output_type": "execute_result"
    }
   ],
   "source": [
    "np.full((1, 1) ,0.00000000000000000000000000000000001)"
   ]
  },
  {
   "cell_type": "code",
   "execution_count": null,
   "id": "f6fc0730",
   "metadata": {},
   "outputs": [],
   "source": []
  },
  {
   "cell_type": "code",
   "execution_count": 18,
   "id": "b76e0750",
   "metadata": {},
   "outputs": [
    {
     "data": {
      "text/plain": [
       "(118, 28)"
      ]
     },
     "execution_count": 18,
     "metadata": {},
     "output_type": "execute_result"
    }
   ],
   "source": [
    "X.shape"
   ]
  },
  {
   "cell_type": "code",
   "execution_count": 19,
   "id": "3760cef4",
   "metadata": {},
   "outputs": [
    {
     "data": {
      "text/plain": [
       "(28, 1)"
      ]
     },
     "execution_count": 19,
     "metadata": {},
     "output_type": "execute_result"
    }
   ],
   "source": [
    "theta.shape\n"
   ]
  },
  {
   "cell_type": "code",
   "execution_count": 21,
   "id": "d1e95bf5",
   "metadata": {},
   "outputs": [
    {
     "data": {
      "text/plain": [
       "array([[1],\n",
       "       [1],\n",
       "       [1],\n",
       "       [1],\n",
       "       [1],\n",
       "       [1],\n",
       "       [1],\n",
       "       [1],\n",
       "       [1],\n",
       "       [1],\n",
       "       [1],\n",
       "       [1],\n",
       "       [1],\n",
       "       [1],\n",
       "       [1],\n",
       "       [1],\n",
       "       [1],\n",
       "       [1],\n",
       "       [1],\n",
       "       [1],\n",
       "       [1],\n",
       "       [1],\n",
       "       [1],\n",
       "       [1],\n",
       "       [1],\n",
       "       [1],\n",
       "       [1],\n",
       "       [1],\n",
       "       [1],\n",
       "       [1],\n",
       "       [1],\n",
       "       [1],\n",
       "       [1],\n",
       "       [1],\n",
       "       [1],\n",
       "       [1],\n",
       "       [1],\n",
       "       [1],\n",
       "       [1],\n",
       "       [1],\n",
       "       [1],\n",
       "       [1],\n",
       "       [1],\n",
       "       [1],\n",
       "       [1],\n",
       "       [1],\n",
       "       [1],\n",
       "       [1],\n",
       "       [1],\n",
       "       [1],\n",
       "       [1],\n",
       "       [1],\n",
       "       [1],\n",
       "       [1],\n",
       "       [1],\n",
       "       [1],\n",
       "       [1],\n",
       "       [1],\n",
       "       [0],\n",
       "       [0],\n",
       "       [0],\n",
       "       [0],\n",
       "       [0],\n",
       "       [0],\n",
       "       [0],\n",
       "       [0],\n",
       "       [0],\n",
       "       [0],\n",
       "       [0],\n",
       "       [0],\n",
       "       [0],\n",
       "       [0],\n",
       "       [0],\n",
       "       [0],\n",
       "       [0],\n",
       "       [0],\n",
       "       [0],\n",
       "       [0],\n",
       "       [0],\n",
       "       [0],\n",
       "       [0],\n",
       "       [0],\n",
       "       [0],\n",
       "       [0],\n",
       "       [0],\n",
       "       [0],\n",
       "       [0],\n",
       "       [0],\n",
       "       [0],\n",
       "       [0],\n",
       "       [0],\n",
       "       [0],\n",
       "       [0],\n",
       "       [0],\n",
       "       [0],\n",
       "       [0],\n",
       "       [0],\n",
       "       [0],\n",
       "       [0],\n",
       "       [0],\n",
       "       [0],\n",
       "       [0],\n",
       "       [0],\n",
       "       [0],\n",
       "       [0],\n",
       "       [0],\n",
       "       [0],\n",
       "       [0],\n",
       "       [0],\n",
       "       [0],\n",
       "       [0],\n",
       "       [0],\n",
       "       [0],\n",
       "       [0],\n",
       "       [0],\n",
       "       [0],\n",
       "       [0],\n",
       "       [0]], dtype=int64)"
      ]
     },
     "execution_count": 21,
     "metadata": {},
     "output_type": "execute_result"
    }
   ],
   "source": [
    "y"
   ]
  },
  {
   "cell_type": "code",
   "execution_count": null,
   "id": "cd91c936",
   "metadata": {},
   "outputs": [],
   "source": []
  },
  {
   "cell_type": "code",
   "execution_count": null,
   "id": "ac1810a6",
   "metadata": {},
   "outputs": [],
   "source": []
  },
  {
   "cell_type": "code",
   "execution_count": null,
   "id": "348ffb24",
   "metadata": {},
   "outputs": [],
   "source": []
  }
 ],
 "metadata": {
  "kernelspec": {
   "display_name": "Python 3 (ipykernel)",
   "language": "python",
   "name": "python3"
  },
  "language_info": {
   "codemirror_mode": {
    "name": "ipython",
    "version": 3
   },
   "file_extension": ".py",
   "mimetype": "text/x-python",
   "name": "python",
   "nbconvert_exporter": "python",
   "pygments_lexer": "ipython3",
   "version": "3.9.7"
  }
 },
 "nbformat": 4,
 "nbformat_minor": 5
}
