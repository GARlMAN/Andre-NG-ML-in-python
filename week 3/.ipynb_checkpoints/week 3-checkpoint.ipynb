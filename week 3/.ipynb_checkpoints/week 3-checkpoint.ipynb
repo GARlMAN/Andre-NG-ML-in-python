{
 "cells": [
  {
   "cell_type": "code",
   "execution_count": 504,
   "id": "980f4fae",
   "metadata": {},
   "outputs": [],
   "source": [
    "import numpy as np\n",
    "import matplotlib.pyplot as plt\n",
    "import pandas as pd\n"
   ]
  },
  {
   "cell_type": "code",
   "execution_count": 505,
   "id": "bcff775f",
   "metadata": {},
   "outputs": [
    {
     "data": {
      "text/html": [
       "<div>\n",
       "<style scoped>\n",
       "    .dataframe tbody tr th:only-of-type {\n",
       "        vertical-align: middle;\n",
       "    }\n",
       "\n",
       "    .dataframe tbody tr th {\n",
       "        vertical-align: top;\n",
       "    }\n",
       "\n",
       "    .dataframe thead th {\n",
       "        text-align: right;\n",
       "    }\n",
       "</style>\n",
       "<table border=\"1\" class=\"dataframe\">\n",
       "  <thead>\n",
       "    <tr style=\"text-align: right;\">\n",
       "      <th></th>\n",
       "      <th>exam_1</th>\n",
       "      <th>exam_2</th>\n",
       "      <th>admitted or no</th>\n",
       "    </tr>\n",
       "  </thead>\n",
       "  <tbody>\n",
       "    <tr>\n",
       "      <th>0</th>\n",
       "      <td>34.623660</td>\n",
       "      <td>78.024693</td>\n",
       "      <td>0</td>\n",
       "    </tr>\n",
       "    <tr>\n",
       "      <th>1</th>\n",
       "      <td>30.286711</td>\n",
       "      <td>43.894998</td>\n",
       "      <td>0</td>\n",
       "    </tr>\n",
       "    <tr>\n",
       "      <th>2</th>\n",
       "      <td>35.847409</td>\n",
       "      <td>72.902198</td>\n",
       "      <td>0</td>\n",
       "    </tr>\n",
       "    <tr>\n",
       "      <th>3</th>\n",
       "      <td>60.182599</td>\n",
       "      <td>86.308552</td>\n",
       "      <td>1</td>\n",
       "    </tr>\n",
       "    <tr>\n",
       "      <th>4</th>\n",
       "      <td>79.032736</td>\n",
       "      <td>75.344376</td>\n",
       "      <td>1</td>\n",
       "    </tr>\n",
       "    <tr>\n",
       "      <th>...</th>\n",
       "      <td>...</td>\n",
       "      <td>...</td>\n",
       "      <td>...</td>\n",
       "    </tr>\n",
       "    <tr>\n",
       "      <th>95</th>\n",
       "      <td>83.489163</td>\n",
       "      <td>48.380286</td>\n",
       "      <td>1</td>\n",
       "    </tr>\n",
       "    <tr>\n",
       "      <th>96</th>\n",
       "      <td>42.261701</td>\n",
       "      <td>87.103851</td>\n",
       "      <td>1</td>\n",
       "    </tr>\n",
       "    <tr>\n",
       "      <th>97</th>\n",
       "      <td>99.315009</td>\n",
       "      <td>68.775409</td>\n",
       "      <td>1</td>\n",
       "    </tr>\n",
       "    <tr>\n",
       "      <th>98</th>\n",
       "      <td>55.340018</td>\n",
       "      <td>64.931938</td>\n",
       "      <td>1</td>\n",
       "    </tr>\n",
       "    <tr>\n",
       "      <th>99</th>\n",
       "      <td>74.775893</td>\n",
       "      <td>89.529813</td>\n",
       "      <td>1</td>\n",
       "    </tr>\n",
       "  </tbody>\n",
       "</table>\n",
       "<p>100 rows × 3 columns</p>\n",
       "</div>"
      ],
      "text/plain": [
       "       exam_1     exam_2  admitted or no\n",
       "0   34.623660  78.024693               0\n",
       "1   30.286711  43.894998               0\n",
       "2   35.847409  72.902198               0\n",
       "3   60.182599  86.308552               1\n",
       "4   79.032736  75.344376               1\n",
       "..        ...        ...             ...\n",
       "95  83.489163  48.380286               1\n",
       "96  42.261701  87.103851               1\n",
       "97  99.315009  68.775409               1\n",
       "98  55.340018  64.931938               1\n",
       "99  74.775893  89.529813               1\n",
       "\n",
       "[100 rows x 3 columns]"
      ]
     },
     "execution_count": 505,
     "metadata": {},
     "output_type": "execute_result"
    }
   ],
   "source": [
    "data = pd.read_csv('ex2data1.txt')\n",
    "data"
   ]
  },
  {
   "cell_type": "code",
   "execution_count": 506,
   "id": "511fcaf0",
   "metadata": {},
   "outputs": [
    {
     "data": {
      "text/plain": [
       "<matplotlib.collections.PathCollection at 0x179dbc6baf0>"
      ]
     },
     "execution_count": 506,
     "metadata": {},
     "output_type": "execute_result"
    },
    {
     "data": {
      "image/png": "[encoded data removed]",
      "text/plain": [
       "<Figure size 432x288 with 1 Axes>"
      ]
     },
     "metadata": {
      "needs_background": "light"
     },
     "output_type": "display_data"
    }
   ],
   "source": [
    "X_for_graph = data[['exam_1', 'exam_2']].to_numpy()\n",
    "y = data[['admitted or no']].to_numpy()\n",
    "m = len(y)\n",
    "theta = np.zeros((3,1))    #(3, 1)\n",
    "\n",
    "\n",
    "pos , neg = (y==1), (y==0)\n",
    "plt.scatter(X_for_graph[pos[:,0],0],X_for_graph[pos[:,0],1],c=\"r\",marker=\"+\", s = 10)\n",
    "plt.scatter(X_for_graph[neg[:,0],0],X_for_graph[neg[:,0],1],marker=\"o\",s = 10)\n"
   ]
  },
  {
   "cell_type": "code",
   "execution_count": 507,
   "id": "13ed6404",
   "metadata": {},
   "outputs": [],
   "source": [
    "def featureNormalization(X):\n",
    "    \"\"\"\n",
    "    Take in numpy array of X values and return normalize X values,\n",
    "    the mean and standard deviation of each feature\n",
    "    \"\"\"\n",
    "    mean=np.mean(X,axis=0)\n",
    "    std=np.std(X,axis=0)\n",
    "    \n",
    "    X_norm = (X - mean)/std\n",
    "    \n",
    "    return X_norm , mean , std\n",
    "\n",
    "X_PD = data[['exam_1', 'exam_2']]\n",
    "X_PD, X_mean, X_std = featureNormalization(X_PD)\n",
    "X = X_PD[['exam_1', 'exam_2']].to_numpy()\n",
    "X = np.append(np.ones((m,1)), X, axis = 1) #(100, 3)\n",
    "\n"
   ]
  },
  {
   "cell_type": "code",
   "execution_count": 508,
   "id": "50abd2b5",
   "metadata": {},
   "outputs": [],
   "source": [
    "def sigmoid(z):\n",
    "    return 1/(1 + np.exp(-z))"
   ]
  },
  {
   "cell_type": "code",
   "execution_count": 509,
   "id": "803aa47b",
   "metadata": {},
   "outputs": [],
   "source": [
    "def cost_Function(X, Y, theta):\n",
    "    m = len(Y)\n",
    "    small_value = np.full((100, 1) ,0.00000000000000000000000000000000001)\n",
    "    h_x = sigmoid(np.dot(X, theta))#(100, 1)\n",
    "    cost = (Y) * np.log(h_x+small_value) + (1 - Y) * np.log(1 - h_x + small_value)\n",
    "    j = (-1/m) * sum(cost)\n",
    "    \n",
    "    grad = (1/m)*(np.dot(X.transpose(),(h_x - Y)))\n",
    "    return j[0], grad"
   ]
  },
  {
   "cell_type": "code",
   "execution_count": 510,
   "id": "7848dd65",
   "metadata": {},
   "outputs": [
    {
     "data": {
      "text/plain": [
       "14.2935569437861"
      ]
     },
     "execution_count": 510,
     "metadata": {},
     "output_type": "execute_result"
    }
   ],
   "source": [
    "test_theta = np.array([[-24],  [0.2], [0.2]])\n",
    "j, g_test = cost_Function(X, y, test_theta)\n",
    "j\n",
    " \n"
   ]
  },
  {
   "cell_type": "code",
   "execution_count": 511,
   "id": "c0afd38a",
   "metadata": {},
   "outputs": [],
   "source": [
    "def gradient_descent(X, Y, theta1, alpha, num_iter):\n",
    "    cost_fun = []\n",
    "    for i in range(num_iter):\n",
    "        cost, grad = cost_Function(X, Y, theta1)\n",
    "        theta1 = theta1 - (alpha*grad)\n",
    "        cost_fun.append(cost)\n",
    "    \n",
    "    return theta1, cost_fun\n",
    "\n",
    "\n",
    "theta, cos_function = gradient_descent(X, y, theta, 1, 1000) \n",
    "\n",
    "    "
   ]
  },
  {
   "cell_type": "code",
   "execution_count": 512,
   "id": "367e3205",
   "metadata": {},
   "outputs": [
    {
     "data": {
      "text/plain": [
       "array([[1.71671348],\n",
       "       [3.98908079],\n",
       "       [3.72154954]])"
      ]
     },
     "execution_count": 512,
     "metadata": {},
     "output_type": "execute_result"
    }
   ],
   "source": [
    "theta\n",
    "    "
   ]
  },
  {
   "cell_type": "code",
   "execution_count": 513,
   "id": "89629c6e",
   "metadata": {
    "scrolled": true
   },
   "outputs": [
    {
     "data": {
      "text/plain": [
       "[<matplotlib.lines.Line2D at 0x179dbcdc700>]"
      ]
     },
     "execution_count": 513,
     "metadata": {},
     "output_type": "execute_result"
    },
    {
     "data": {
      "image/png": "[encoded data removed]",
      "text/plain": [
       "<Figure size 432x288 with 1 Axes>"
      ]
     },
     "metadata": {
      "needs_background": "light"
     },
     "output_type": "display_data"
    }
   ],
   "source": [
    "plt.plot(cos_function)"
   ]
  },
  {
   "cell_type": "code",
   "execution_count": 514,
   "id": "91d4025e",
   "metadata": {},
   "outputs": [
    {
     "data": {
      "text/plain": [
       "0.20349778740277177"
      ]
     },
     "execution_count": 514,
     "metadata": {},
     "output_type": "execute_result"
    }
   ],
   "source": [
    "j, g_test = cost_Function(X, y, theta)\n",
    "j"
   ]
  },
  {
   "cell_type": "code",
   "execution_count": 515,
   "id": "0819dd7c",
   "metadata": {},
   "outputs": [
    {
     "name": "stdout",
     "output_type": "stream",
     "text": [
      "For a student with scores 45 and 85, we predict an admission probability of 0.7760428925608953\n"
     ]
    },
    {
     "data": {
      "text/plain": [
       "array([0.77604289])"
      ]
     },
     "execution_count": 515,
     "metadata": {},
     "output_type": "execute_result"
    }
   ],
   "source": [
    "x_test = np.array([45,85])\n",
    "x_test = (x_test - X_mean)/X_std\n",
    "x_test = np.append(np.ones(1),x_test)\n",
    "prob = sigmoid(x_test.dot(theta))\n",
    "print(\"For a student with scores 45 and 85, we predict an admission probability of\",prob[0])\n",
    "prob"
   ]
  },
  {
   "cell_type": "code",
   "execution_count": 516,
   "id": "b17e1fa4",
   "metadata": {},
   "outputs": [],
   "source": [
    "def classifierPredict(theta,X):\n",
    "    \"\"\"\n",
    "    take in numpy array of theta and X and predict the class \n",
    "    \"\"\"\n",
    "    predictions = sigmoid(X.dot(theta))\n",
    "    \n",
    "    return predictions>= 0.5\n",
    "\n",
    "p=classifierPredict(theta,X)\n"
   ]
  },
  {
   "cell_type": "code",
   "execution_count": 517,
   "id": "b59b1d2a",
   "metadata": {},
   "outputs": [
    {
     "data": {
      "text/plain": [
       "array([89])"
      ]
     },
     "execution_count": 517,
     "metadata": {},
     "output_type": "execute_result"
    }
   ],
   "source": [
    "sum(p == y)"
   ]
  },
  {
   "cell_type": "code",
   "execution_count": 521,
   "id": "a6838427",
   "metadata": {},
   "outputs": [
    {
     "data": {
      "text/plain": [
       "[<matplotlib.lines.Line2D at 0x179dbe89b20>]"
      ]
     },
     "execution_count": 521,
     "metadata": {},
     "output_type": "execute_result"
    },
    {
     "data": {
      "image/png": "[encoded data removed]",
      "text/plain": [
       "<Figure size 432x288 with 1 Axes>"
      ]
     },
     "metadata": {
      "needs_background": "light"
     },
     "output_type": "display_data"
    }
   ],
   "source": [
    "x_value= np.array([np.min(X[:,1]),np.max(X[:,1])])\n",
    "y_value=-(theta[0] +theta[1]*x_value)/theta[2]\n",
    "plt.plot(x_value,y_value, \"r\")"
   ]
  },
  {
   "cell_type": "code",
   "execution_count": 524,
   "id": "754d6f00",
   "metadata": {},
   "outputs": [
    {
     "data": {
      "text/plain": [
       "[<matplotlib.lines.Line2D at 0x179dbf7c850>]"
      ]
     },
     "execution_count": 524,
     "metadata": {},
     "output_type": "execute_result"
    },
    {
     "data": {
      "image/png": "[encoded data removed]",
      "text/plain": [
       "<Figure size 432x288 with 1 Axes>"
      ]
     },
     "metadata": {
      "needs_background": "light"
     },
     "output_type": "display_data"
    }
   ],
   "source": [
    "pos , neg = (y==1), (y==0)\n",
    "plt.scatter(X[pos[:,0],1],X[pos[:,0],2],c=\"r\",marker=\"+\", s = 10)\n",
    "plt.scatter(X[neg[:,0],1],X[neg[:,0],2],marker=\"o\",s = 10)\n",
    "plt.plot(x_value ,y_value, \"r\"  )\n"
   ]
  },
  {
   "cell_type": "code",
   "execution_count": 523,
   "id": "f6be01d5",
   "metadata": {},
   "outputs": [
    {
     "data": {
      "text/plain": [
       "98.86943574220612"
      ]
     },
     "execution_count": 523,
     "metadata": {},
     "output_type": "execute_result"
    }
   ],
   "source": [
    "np.max(X_for_graph[:,1])"
   ]
  },
  {
   "cell_type": "code",
   "execution_count": 491,
   "id": "483cd578",
   "metadata": {},
   "outputs": [
    {
     "data": {
      "text/plain": [
       "array([30.60326323, 98.86943574])"
      ]
     },
     "execution_count": 491,
     "metadata": {},
     "output_type": "execute_result"
    }
   ],
   "source": [
    "X_values"
   ]
  },
  {
   "cell_type": "code",
   "execution_count": null,
   "id": "706f45ec",
   "metadata": {},
   "outputs": [],
   "source": []
  }
 ],
 "metadata": {
  "kernelspec": {
   "display_name": "Python 3 (ipykernel)",
   "language": "python",
   "name": "python3"
  },
  "language_info": {
   "codemirror_mode": {
    "name": "ipython",
    "version": 3
   },
   "file_extension": ".py",
   "mimetype": "text/x-python",
   "name": "python",
   "nbconvert_exporter": "python",
   "pygments_lexer": "ipython3",
   "version": "3.9.7"
  }
 },
 "nbformat": 4,
 "nbformat_minor": 5
}
