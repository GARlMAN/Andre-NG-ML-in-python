{
 "cells": [
  {
   "cell_type": "code",
   "execution_count": 1,
   "id": "62656476",
   "metadata": {},
   "outputs": [],
   "source": [
    "import numpy as np\n",
    "import matplotlib.pyplot as plt\n",
    "from scipy.io import loadmat\n",
    "mat = loadmat(\"ex8data1.mat\")\n",
    "X = mat[\"X\"]\n",
    "Xval = mat[\"Xval\"]\n",
    "yval = mat[\"yval\"]"
   ]
  },
  {
   "cell_type": "code",
   "execution_count": 2,
   "id": "05307e10",
   "metadata": {},
   "outputs": [
    {
     "data": {
      "text/plain": [
       "Text(0, 0.5, 'Throughput (mb/s)')"
      ]
     },
     "execution_count": 2,
     "metadata": {},
     "output_type": "execute_result"
    },
    {
     "data": {
      "image/png": "[encoded data removed]",
      "text/plain": [
       "<Figure size 432x288 with 1 Axes>"
      ]
     },
     "metadata": {
      "needs_background": "light"
     },
     "output_type": "display_data"
    }
   ],
   "source": [
    "plt.scatter(X[:,0],X[:,1],marker=\"x\")\n",
    "plt.xlim(0,30)\n",
    "plt.ylim(0,30)\n",
    "plt.xlabel(\"Latency (ms)\")\n",
    "plt.ylabel(\"Throughput (mb/s)\")"
   ]
  },
  {
   "cell_type": "code",
   "execution_count": 3,
   "id": "86dfcc5e",
   "metadata": {},
   "outputs": [],
   "source": [
    "def estimateGaussian(X):\n",
    "    \"\"\"\n",
    "     This function estimates the parameters of a Gaussian distribution using the data in X\n",
    "    \"\"\"\n",
    "    \n",
    "    m = X.shape[0]\n",
    "    \n",
    "    #compute mean\n",
    "    sum_ = np.sum(X,axis=0)\n",
    "    mu = 1/m *sum_\n",
    "    \n",
    "    # compute variance\n",
    "    var = 1/m * np.sum((X - mu)**2,axis=0)\n",
    "    \n",
    "    return mu,var\n",
    "mu, sigma2 = estimateGaussian(X)"
   ]
  },
  {
   "cell_type": "code",
   "execution_count": 6,
   "id": "c11b32b7",
   "metadata": {},
   "outputs": [],
   "source": [
    "def multivariateGaussian(X, mu, sigma2):\n",
    "    \"\"\"\n",
    "    Computes the probability density function of the multivariate gaussian distribution.\n",
    "    \"\"\"\n",
    "    k = len(mu)\n",
    "    \n",
    "    sigma2=np.diag(sigma2)\n",
    "    X = X - mu.T\n",
    "    p = 1/((2*np.pi)**(k/2)*(np.linalg.det(sigma2)**0.5))* np.exp(-0.5* np.sum(X @ np.linalg.pinv(sigma2) * X,axis=1))\n",
    "    return p\n",
    "p = multivariateGaussian(X, mu, sigma2)"
   ]
  },
  {
   "cell_type": "code",
   "execution_count": null,
   "id": "dd36bcc4",
   "metadata": {},
   "outputs": [],
   "source": []
  },
  {
   "cell_type": "code",
   "execution_count": 8,
   "id": "bb3a35f8",
   "metadata": {},
   "outputs": [
    {
     "data": {
      "image/png": "[encoded data removed]",
      "text/plain": [
       "<Figure size 576x432 with 1 Axes>"
      ]
     },
     "metadata": {
      "needs_background": "light"
     },
     "output_type": "display_data"
    }
   ],
   "source": [
    "plt.figure(figsize=(8,6))\n",
    "plt.scatter(X[:,0],X[:,1],marker=\"x\")\n",
    "X1,X2 = np.meshgrid(np.linspace(0,35,num=70),np.linspace(0,35,num=70))\n",
    "p2 = multivariateGaussian(np.hstack((X1.flatten()[:,np.newaxis],X2.flatten()[:,np.newaxis])), mu, sigma2)\n"
   ]
  },
  {
   "cell_type": "code",
   "execution_count": 9,
   "id": "4df3d0c2",
   "metadata": {},
   "outputs": [
    {
     "name": "stdout",
     "output_type": "stream",
     "text": [
      "Best epsilon found using cross-validation: 8.990852779269495e-05\n",
      "Best F1 on Cross Validation Set: 0.8750000000000001\n"
     ]
    },
    {
     "name": "stderr",
     "output_type": "stream",
     "text": [
      "C:\\Users\\garim\\AppData\\Local\\Temp/ipykernel_11392/2057671783.py:17: RuntimeWarning: invalid value encountered in long_scalars\n",
      "  prec = tp/(tp+fp)\n"
     ]
    }
   ],
   "source": [
    "def selectThreshold(yval, pval):\n",
    "    \"\"\"\n",
    "    Find the best threshold (epsilon) to use for selecting outliers\n",
    "    \"\"\"\n",
    "    best_epi = 0\n",
    "    best_F1 = 0\n",
    "    \n",
    "    stepsize = (max(pval) -min(pval))/1000\n",
    "    epi_range = np.arange(pval.min(),pval.max(),stepsize)\n",
    "    for epi in epi_range:\n",
    "        predictions = (pval<epi)[:,np.newaxis]\n",
    "        tp = np.sum(predictions[yval==1]==1)\n",
    "        fp = np.sum(predictions[yval==0]==1)\n",
    "        fn = np.sum(predictions[yval==1]==0)\n",
    "        \n",
    "        # compute precision, recall and F1\n",
    "        prec = tp/(tp+fp)\n",
    "        rec = tp/(tp+fn)\n",
    "        \n",
    "        F1 = (2*prec*rec)/(prec+rec)\n",
    "        \n",
    "        if F1 > best_F1:\n",
    "            best_F1 =F1\n",
    "            best_epi = epi\n",
    "        \n",
    "    return best_epi, best_F1\n",
    "pval = multivariateGaussian(Xval, mu, sigma2)\n",
    "epsilon, F1 = selectThreshold(yval, pval)\n",
    "print(\"Best epsilon found using cross-validation:\",epsilon)\n",
    "print(\"Best F1 on Cross Validation Set:\",F1)\n",
    "\n",
    "\n"
   ]
  },
  {
   "cell_type": "code",
   "execution_count": 14,
   "id": "f2e2eee5",
   "metadata": {},
   "outputs": [
    {
     "ename": "IndentationError",
     "evalue": "expected an indented block (Temp/ipykernel_11392/3907495201.py, line 1)",
     "output_type": "error",
     "traceback": [
      "\u001b[1;36m  File \u001b[1;32m\"C:\\Users\\garim\\AppData\\Local\\Temp/ipykernel_11392/3907495201.py\"\u001b[1;36m, line \u001b[1;32m1\u001b[0m\n\u001b[1;33m    def predict(X, Y):\u001b[0m\n\u001b[1;37m                      ^\u001b[0m\n\u001b[1;31mIndentationError\u001b[0m\u001b[1;31m:\u001b[0m expected an indented block\n"
     ]
    }
   ],
   "source": [
    "def predict(X, Y):"
   ]
  },
  {
   "cell_type": "code",
   "execution_count": 13,
   "id": "aced2277",
   "metadata": {},
   "outputs": [
    {
     "data": {
      "text/plain": [
       "8.990852779269495e-05"
      ]
     },
     "execution_count": 13,
     "metadata": {},
     "output_type": "execute_result"
    }
   ],
   "source": [
    "(max(pval) -min(pval))/1000"
   ]
  },
  {
   "cell_type": "code",
   "execution_count": null,
   "id": "9e94d990",
   "metadata": {},
   "outputs": [],
   "source": []
  }
 ],
 "metadata": {
  "kernelspec": {
   "display_name": "Python 3 (ipykernel)",
   "language": "python",
   "name": "python3"
  },
  "language_info": {
   "codemirror_mode": {
    "name": "ipython",
    "version": 3
   },
   "file_extension": ".py",
   "mimetype": "text/x-python",
   "name": "python",
   "nbconvert_exporter": "python",
   "pygments_lexer": "ipython3",
   "version": "3.9.7"
  }
 },
 "nbformat": 4,
 "nbformat_minor": 5
}
